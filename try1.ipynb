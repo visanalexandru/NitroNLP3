{
 "cells": [
  {
   "cell_type": "code",
   "execution_count": 36,
   "metadata": {},
   "outputs": [],
   "source": [
    "import pandas as pd\n",
    "from sklearn.model_selection import train_test_split"
   ]
  },
  {
   "cell_type": "code",
   "execution_count": 33,
   "metadata": {},
   "outputs": [],
   "source": [
    "df = pd.read_csv('train.csv')\n",
    "df = df.fillna(\"\")"
   ]
  },
  {
   "cell_type": "code",
   "execution_count": 30,
   "metadata": {},
   "outputs": [
    {
     "data": {
      "text/html": [
       "<div>\n",
       "<style scoped>\n",
       "    .dataframe tbody tr th:only-of-type {\n",
       "        vertical-align: middle;\n",
       "    }\n",
       "\n",
       "    .dataframe tbody tr th {\n",
       "        vertical-align: top;\n",
       "    }\n",
       "\n",
       "    .dataframe thead th {\n",
       "        text-align: right;\n",
       "    }\n",
       "</style>\n",
       "<table border=\"1\" class=\"dataframe\">\n",
       "  <thead>\n",
       "    <tr style=\"text-align: right;\">\n",
       "      <th></th>\n",
       "      <th>id</th>\n",
       "      <th>title</th>\n",
       "      <th>content</th>\n",
       "      <th>class</th>\n",
       "    </tr>\n",
       "  </thead>\n",
       "  <tbody>\n",
       "    <tr>\n",
       "      <th>0</th>\n",
       "      <td>0</td>\n",
       "      <td>PSD în alertă</td>\n",
       "      <td>Prăbușirea PSD de la altitudinea sigură a celo...</td>\n",
       "      <td>True</td>\n",
       "    </tr>\n",
       "    <tr>\n",
       "      <th>1</th>\n",
       "      <td>1</td>\n",
       "      <td>În amintirea Vioricăi, milioane de români beau...</td>\n",
       "      <td>Moțiunea de cenzură care a doborât guvernul Dă...</td>\n",
       "      <td>True</td>\n",
       "    </tr>\n",
       "    <tr>\n",
       "      <th>2</th>\n",
       "      <td>2</td>\n",
       "      <td>Dramă! Când credea că nu se poate mai rău, un ...</td>\n",
       "      <td>Credeai că ai ajuns la fundul sacului? Înseamn...</td>\n",
       "      <td>True</td>\n",
       "    </tr>\n",
       "    <tr>\n",
       "      <th>3</th>\n",
       "      <td>3</td>\n",
       "      <td>Spania - România, 5-0. „Tricolorii”, îngenunch...</td>\n",
       "      <td>Echipa națională a României a fost umilită, lu...</td>\n",
       "      <td>False</td>\n",
       "    </tr>\n",
       "    <tr>\n",
       "      <th>4</th>\n",
       "      <td>4</td>\n",
       "      <td>Campanie electorală, veselie generală</td>\n",
       "      <td>Toate cresc în campania electorală, cît n-au c...</td>\n",
       "      <td>True</td>\n",
       "    </tr>\n",
       "  </tbody>\n",
       "</table>\n",
       "</div>"
      ],
      "text/plain": [
       "   id                                              title  \\\n",
       "0   0                                      PSD în alertă   \n",
       "1   1  În amintirea Vioricăi, milioane de români beau...   \n",
       "2   2  Dramă! Când credea că nu se poate mai rău, un ...   \n",
       "3   3  Spania - România, 5-0. „Tricolorii”, îngenunch...   \n",
       "4   4              Campanie electorală, veselie generală   \n",
       "\n",
       "                                             content  class  \n",
       "0  Prăbușirea PSD de la altitudinea sigură a celo...   True  \n",
       "1  Moțiunea de cenzură care a doborât guvernul Dă...   True  \n",
       "2  Credeai că ai ajuns la fundul sacului? Înseamn...   True  \n",
       "3  Echipa națională a României a fost umilită, lu...  False  \n",
       "4  Toate cresc în campania electorală, cît n-au c...   True  "
      ]
     },
     "execution_count": 30,
     "metadata": {},
     "output_type": "execute_result"
    }
   ],
   "source": [
    "df.head()"
   ]
  },
  {
   "cell_type": "code",
   "execution_count": 32,
   "metadata": {},
   "outputs": [
    {
     "name": "stdout",
     "output_type": "stream",
     "text": [
      "În amintirea Vioricăi, milioane de români beau în seara asta o bere blondă şi proastă\n",
      "Moțiunea de cenzură care a doborât guvernul Dăncilă a scos milioane de români în baruri. Încă de când s-a anunțat rezultatul votului, barurile au început să se umple de români care și-au cerut berea încă dinainte de a se așeza la masă. ”Una blondă și proastă, în cinstea Dăncilei!”, cereau clienții cu voce tare. ”De care bere, că avem mai multe blonde și proaste?” răspundeau invariabil chelnerii. ”Că tot e ultima zi de premier a Vioricăi, am zis că merge o bere blondă și proastă în seara asta”, spune unul dintre cei ieșiți în bar. ”Asta e, n-a fost să fie pentru Viorica, anul 20-20 n-o s-o prindă premier. O să vorbesc și cu chelnerul, să make a photo cu mine și berea, că orice om îi este teamă să nu uite un așa eveniment. Amintirea acestei zile trebuie păstrată.” Deși conștienți că se vor alege mai mult ca sigur cu dureri de cap de la berea blondă și proastă, românii spun că merită efortul. ”Mai bine să te doară capul de la o bere proastă decât de la o proastă care e în fruntea guvernului din țara ta”, spun toți. ”Durerea de cap de la bere trece, dar de aia pe care ți-o provoacă o proastă ajunsă premier nu scapi niciodată.” Disclaimer: aprecierea ”bere blondă și proastă” se referă exclusiv la beri deja existente. Deci în niciun caz la berea TNR, care va fi lansată în perioada imediat următoare (asta dacă n-o bem noi pe toată până atunci).\n",
      "120710\n"
     ]
    }
   ],
   "source": [
    "print(df.iloc[1][\"title\"])\n",
    "print(df.iloc[1][\"content\"])\n",
    "\n",
    "max_content = 0\n",
    "for title, content in zip(df[\"title\"],df[\"content\"]):\n",
    "    max_content = max(max_content, len(content))\n",
    "\n",
    "print(max_content)\n"
   ]
  },
  {
   "cell_type": "code",
   "execution_count": 40,
   "metadata": {},
   "outputs": [],
   "source": [
    "contents = df[\"content\"]\n",
    "titles = df[\"title\"]\n",
    "labels = df[\"class\"]\n",
    "\n",
    "train_contents, test_contents, train_titles, test_titles, train_labels, test_labels = train_test_split(contents, titles, labels,test_size=0.2, shuffle=True)"
   ]
  }
 ],
 "metadata": {
  "kernelspec": {
   "display_name": "Python 3",
   "language": "python",
   "name": "python3"
  },
  "language_info": {
   "codemirror_mode": {
    "name": "ipython",
    "version": 3
   },
   "file_extension": ".py",
   "mimetype": "text/x-python",
   "name": "python",
   "nbconvert_exporter": "python",
   "pygments_lexer": "ipython3",
   "version": "3.10.12"
  }
 },
 "nbformat": 4,
 "nbformat_minor": 2
}
